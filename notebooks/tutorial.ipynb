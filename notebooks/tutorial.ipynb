{
 "cells": [
  {
   "cell_type": "code",
   "execution_count": 1,
   "metadata": {},
   "outputs": [],
   "source": [
    "import sys\n",
    "import os\n",
    "\n",
    "sys.path.append(os.path.abspath(\"../src\"))\n",
    "\n",
    "from visuals.plots import *\n"
   ]
  },
  {
   "cell_type": "code",
   "execution_count": 2,
   "metadata": {},
   "outputs": [
    {
     "name": "stdout",
     "output_type": "stream",
     "text": [
      "Running: julia ../src/sampling/main.jl --t0 1000 --alpha 1.0 --tau -1\n",
      "Running simulation with the following parameters:\n",
      "N = 100, T = 10M, t0 = 1K, alpha = 1.0, tau = inf\n"
     ]
    },
    {
     "name": "stderr",
     "output_type": "stream",
     "text": [
      "Simulation 100%|█████████████████████████████████████████| Time: 0:00:11\u001b[K\n"
     ]
    },
    {
     "name": "stdout",
     "output_type": "stream",
     "text": [
      "Saved Z values to data/Zt/N100_T10M_t01K_alpha1.0_tauinf.csv\n",
      "Running: julia ../src/sampling/main.jl --t0 1000 --alpha 2.0 --tau -1\n",
      "Running simulation with the following parameters:\n",
      "N = 100, T = 10M, t0 = 1K, alpha = 2.0, tau = inf\n"
     ]
    },
    {
     "name": "stderr",
     "output_type": "stream",
     "text": [
      "Simulation 100%|█████████████████████████████████████████| Time: 0:00:12\u001b[K\n"
     ]
    },
    {
     "name": "stdout",
     "output_type": "stream",
     "text": [
      "Saved Z values to data/Zt/N100_T10M_t01K_alpha2.0_tauinf.csv\n",
      "Running: julia ../src/sampling/main.jl --t0 100000 --alpha 1.0 --tau -1\n",
      "Running simulation with the following parameters:\n",
      "N = 100, T = 10M, t0 = 100K, alpha = 1.0, tau = inf\n"
     ]
    },
    {
     "name": "stderr",
     "output_type": "stream",
     "text": [
      "Simulation 100%|█████████████████████████████████████████| Time: 0:00:11\u001b[K\n"
     ]
    },
    {
     "name": "stdout",
     "output_type": "stream",
     "text": [
      "Saved Z values to data/Zt/N100_T10M_t0100K_alpha1.0_tauinf.csv\n",
      "Running: julia ../src/sampling/main.jl --t0 100000 --alpha 2.0 --tau -1\n",
      "Running simulation with the following parameters:\n",
      "N = 100, T = 10M, t0 = 100K, alpha = 2.0, tau = inf\n"
     ]
    },
    {
     "name": "stderr",
     "output_type": "stream",
     "text": [
      "Simulation 100%|█████████████████████████████████████████| Time: 0:00:12\u001b[K\n"
     ]
    },
    {
     "name": "stdout",
     "output_type": "stream",
     "text": [
      "Saved Z values to data/Zt/N100_T10M_t0100K_alpha2.0_tauinf.csv\n"
     ]
    }
   ],
   "source": [
    "parameters = [\n",
    "    {\"N\": 100, \"T\": 10000000, \"t0\": 1000, \"alpha\": 1.0, \"tau\": -1},\n",
    "    {\"N\": 100, \"T\": 10000000, \"t0\": 1000, \"alpha\": 2.0, \"tau\": -1},\n",
    "    {\"N\": 100, \"T\": 10000000, \"t0\": 100000, \"alpha\": 1.0, \"tau\": -1},\n",
    "    {\"N\": 100, \"T\": 10000000, \"t0\": 100000, \"alpha\": 2.0, \"tau\": -1}\n",
    "]\n",
    "\n",
    "for param in parameters:\n",
    "    command = f\"julia ../src/sampling/main.jl --t0 {param['t0']} --alpha {param['alpha']} --tau {param['tau']}\"\n",
    "    print(f\"Running: {command}\")\n",
    "    os.system(command)\n"
   ]
  }
 ],
 "metadata": {
  "kernelspec": {
   "display_name": "base",
   "language": "python",
   "name": "python3"
  },
  "language_info": {
   "codemirror_mode": {
    "name": "ipython",
    "version": 3
   },
   "file_extension": ".py",
   "mimetype": "text/x-python",
   "name": "python",
   "nbconvert_exporter": "python",
   "pygments_lexer": "ipython3",
   "version": "3.11.4"
  }
 },
 "nbformat": 4,
 "nbformat_minor": 2
}
